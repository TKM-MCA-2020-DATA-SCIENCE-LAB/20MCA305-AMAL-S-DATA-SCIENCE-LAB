{
  "nbformat": 4,
  "nbformat_minor": 0,
  "metadata": {
    "colab": {
      "name": "co4_q2.ipynb",
      "provenance": []
    },
    "kernelspec": {
      "name": "python3",
      "display_name": "Python 3"
    },
    "language_info": {
      "name": "python"
    }
  },
  "cells": [
    {
      "cell_type": "code",
      "execution_count": 1,
      "metadata": {
        "id": "9V-iytyIpkk2"
      },
      "outputs": [],
      "source": [
        "import tensorflow as tf\n",
        "from tensorflow.keras import datasets,layers,models\n",
        "import matplotlib.pyplot as plt\n",
        "import numpy as np\n",
        "from sklearn.metrics import classification_report\n"
      ]
    },
    {
      "cell_type": "code",
      "source": [
        "(x_train,y_train),(x_test,y_test)=datasets.cifar10.load_data()"
      ],
      "metadata": {
        "id": "4m1Cf3pDxlUM",
        "colab": {
          "base_uri": "https://localhost:8080/"
        },
        "outputId": "8eb9517f-7696-4b28-faf2-052b736a811f"
      },
      "execution_count": 2,
      "outputs": [
        {
          "output_type": "stream",
          "name": "stdout",
          "text": [
            "Downloading data from https://www.cs.toronto.edu/~kriz/cifar-10-python.tar.gz\n",
            "170500096/170498071 [==============================] - 4s 0us/step\n",
            "170508288/170498071 [==============================] - 4s 0us/step\n"
          ]
        }
      ]
    },
    {
      "cell_type": "code",
      "source": [
        "x_train.shape"
      ],
      "metadata": {
        "colab": {
          "base_uri": "https://localhost:8080/"
        },
        "id": "DSAxmsxpx0iB",
        "outputId": "98d921b9-093c-4f41-abb8-6345ca2596b0"
      },
      "execution_count": 3,
      "outputs": [
        {
          "output_type": "execute_result",
          "data": {
            "text/plain": [
              "(50000, 32, 32, 3)"
            ]
          },
          "metadata": {},
          "execution_count": 3
        }
      ]
    },
    {
      "cell_type": "code",
      "source": [
        "x_test.shape"
      ],
      "metadata": {
        "colab": {
          "base_uri": "https://localhost:8080/"
        },
        "id": "_ffc6UiQx5vR",
        "outputId": "2674f25d-bee9-45ab-926d-4a1878b265d0"
      },
      "execution_count": 5,
      "outputs": [
        {
          "output_type": "execute_result",
          "data": {
            "text/plain": [
              "(10000, 32, 32, 3)"
            ]
          },
          "metadata": {},
          "execution_count": 5
        }
      ]
    },
    {
      "cell_type": "code",
      "source": [
        "classes=['airplane','automobile','bird','cat','deer','dog','frog','horse','ship','truck']"
      ],
      "metadata": {
        "id": "jD0zY-9ex9jo"
      },
      "execution_count": 6,
      "outputs": []
    },
    {
      "cell_type": "code",
      "source": [
        "def plot_sample(x,y,index):\n",
        "  plt.figure(figsize=(14,2))\n",
        "  plt.imshow(x[index])\n",
        "  plt.xlabel(y[index])\n"
      ],
      "metadata": {
        "id": "IhbhwWfwy4Gn"
      },
      "execution_count": 7,
      "outputs": []
    },
    {
      "cell_type": "code",
      "source": [
        "plot_sample(x_train,y_train,2)"
      ],
      "metadata": {
        "colab": {
          "base_uri": "https://localhost:8080/",
          "height": 228
        },
        "id": "bIsXEXUDzMq3",
        "outputId": "e6b375f2-e050-4117-e386-d49ea66af905"
      },
      "execution_count": 8,
      "outputs": [
        {
          "output_type": "stream",
          "name": "stderr",
          "text": [
            "/usr/local/lib/python3.7/dist-packages/matplotlib/text.py:1165: FutureWarning: elementwise comparison failed; returning scalar instead, but in the future will perform elementwise comparison\n",
            "  if s != self._text:\n"
          ]
        },
        {
          "output_type": "display_data",
          "data": {
            "image/png": "[encoded data removed]",
            "text/plain": [
              "<Figure size 1008x144 with 1 Axes>"
            ]
          },
          "metadata": {
            "needs_background": "light"
          }
        }
      ]
    },
    {
      "cell_type": "code",
      "source": [
        "#normalize\n",
        "x_train=x_train/255\n",
        "x_test=x_test/255"
      ],
      "metadata": {
        "id": "MOmv4fD1saZU"
      },
      "execution_count": 10,
      "outputs": []
    },
    {
      "cell_type": "code",
      "source": [
        "#model\n",
        "cnn=models.Sequential()\n",
        "\n",
        "#feature extraction\n",
        "cnn.add(layers.Conv2D(filters=32,activation='relu',kernel_size=(3,3),input_shape=(32,32,3)))\n",
        "cnn.add(layers.MaxPooling2D(2,2))\n",
        "                       \n",
        "cnn.add(layers.Conv2D(filters=64,activation='relu',kernel_size=(3,3)))\n",
        "cnn.add(layers.MaxPooling2D(2,2))\n",
        "\n",
        "#classification\n",
        "cnn.add(layers.Flatten())\n",
        "cnn.add(layers.Dense(64,activation='relu'))\n",
        "cnn.add(layers.Dense(10))\n"
      ],
      "metadata": {
        "id": "uAXOBL1YzelE"
      },
      "execution_count": 12,
      "outputs": []
    },
    {
      "cell_type": "code",
      "source": [
        "cnn.summary()"
      ],
      "metadata": {
        "colab": {
          "base_uri": "https://localhost:8080/"
        },
        "id": "Mb4h9nMYUnKk",
        "outputId": "285b23bb-8f24-44c5-d3a9-a15fb50677a5"
      },
      "execution_count": 13,
      "outputs": [
        {
          "output_type": "stream",
          "name": "stdout",
          "text": [
            "Model: \"sequential_1\"\n",
            "_________________________________________________________________\n",
            " Layer (type)                Output Shape              Param #   \n",
            "=================================================================\n",
            " conv2d_2 (Conv2D)           (None, 30, 30, 32)        896       \n",
            "                                                                 \n",
            " max_pooling2d_2 (MaxPooling  (None, 15, 15, 32)       0         \n",
            " 2D)                                                             \n",
            "                                                                 \n",
            " conv2d_3 (Conv2D)           (None, 13, 13, 64)        18496     \n",
            "                                                                 \n",
            " max_pooling2d_3 (MaxPooling  (None, 6, 6, 64)         0         \n",
            " 2D)                                                             \n",
            "                                                                 \n",
            " flatten_1 (Flatten)         (None, 2304)              0         \n",
            "                                                                 \n",
            " dense_2 (Dense)             (None, 64)                147520    \n",
            "                                                                 \n",
            " dense_3 (Dense)             (None, 10)                650       \n",
            "                                                                 \n",
            "=================================================================\n",
            "Total params: 167,562\n",
            "Trainable params: 167,562\n",
            "Non-trainable params: 0\n",
            "_________________________________________________________________\n"
          ]
        }
      ]
    },
    {
      "cell_type": "code",
      "source": [
        "cnn.compile(optimizer='adam',loss=tf.keras.losses.SparseCategoricalCrossentropy(from_logits=True),metrics=['accuracy'])"
      ],
      "metadata": {
        "id": "snEqW-ZQ1Xfl"
      },
      "execution_count": 15,
      "outputs": []
    },
    {
      "cell_type": "code",
      "source": [
        "cnn.fit(x_train,y_train,epochs=25,validation_data=(x_train,y_train))"
      ],
      "metadata": {
        "colab": {
          "base_uri": "https://localhost:8080/"
        },
        "id": "ZcOw5Q7R1s-r",
        "outputId": "89ff66b4-8f20-40c2-bd60-275cdef62f7f"
      },
      "execution_count": null,
      "outputs": [
        {
          "output_type": "stream",
          "name": "stdout",
          "text": [
            "Epoch 1/25\n",
            "1563/1563 [==============================] - 95s 60ms/step - loss: 2.3028 - accuracy: 0.0982 - val_loss: 2.3026 - val_accuracy: 0.1000\n",
            "Epoch 2/25\n",
            "1563/1563 [==============================] - 90s 58ms/step - loss: 2.3028 - accuracy: 0.0978 - val_loss: 2.3026 - val_accuracy: 0.1000\n",
            "Epoch 3/25\n",
            "1563/1563 [==============================] - 92s 59ms/step - loss: 2.3028 - accuracy: 0.0964 - val_loss: 2.3026 - val_accuracy: 0.1000\n",
            "Epoch 4/25\n",
            "1563/1563 [==============================] - 91s 58ms/step - loss: 2.3028 - accuracy: 0.0983 - val_loss: 2.3026 - val_accuracy: 0.1000\n",
            "Epoch 5/25\n",
            "1563/1563 [==============================] - 91s 58ms/step - loss: 2.3028 - accuracy: 0.0983 - val_loss: 2.3026 - val_accuracy: 0.1000\n",
            "Epoch 6/25\n",
            "1563/1563 [==============================] - 91s 58ms/step - loss: 2.3028 - accuracy: 0.0995 - val_loss: 2.3026 - val_accuracy: 0.1000\n",
            "Epoch 7/25\n",
            "1563/1563 [==============================] - 90s 57ms/step - loss: 2.3027 - accuracy: 0.0999 - val_loss: 2.3027 - val_accuracy: 0.1000\n",
            "Epoch 8/25\n",
            "1563/1563 [==============================] - 91s 58ms/step - loss: 2.3028 - accuracy: 0.0971 - val_loss: 2.3027 - val_accuracy: 0.1000\n",
            "Epoch 9/25\n",
            "1563/1563 [==============================] - 90s 58ms/step - loss: 2.3028 - accuracy: 0.0991 - val_loss: 2.3026 - val_accuracy: 0.1000\n",
            "Epoch 10/25\n",
            "1563/1563 [==============================] - 89s 57ms/step - loss: 2.3028 - accuracy: 0.0996 - val_loss: 2.3026 - val_accuracy: 0.1000\n",
            "Epoch 11/25\n",
            "1563/1563 [==============================] - 90s 57ms/step - loss: 2.3028 - accuracy: 0.0977 - val_loss: 2.3026 - val_accuracy: 0.1000\n",
            "Epoch 12/25\n",
            "1563/1563 [==============================] - 90s 57ms/step - loss: 2.3027 - accuracy: 0.1019 - val_loss: 2.3026 - val_accuracy: 0.1000\n",
            "Epoch 13/25\n",
            "1563/1563 [==============================] - 90s 58ms/step - loss: 2.3028 - accuracy: 0.0997 - val_loss: 2.3026 - val_accuracy: 0.1000\n",
            "Epoch 14/25\n",
            "1563/1563 [==============================] - 91s 58ms/step - loss: 2.3028 - accuracy: 0.0975 - val_loss: 2.3026 - val_accuracy: 0.1000\n",
            "Epoch 15/25\n",
            "1563/1563 [==============================] - 93s 60ms/step - loss: 2.3028 - accuracy: 0.0997 - val_loss: 2.3026 - val_accuracy: 0.1000\n",
            "Epoch 16/25\n",
            "1563/1563 [==============================] - 89s 57ms/step - loss: 2.3028 - accuracy: 0.0984 - val_loss: 2.3026 - val_accuracy: 0.1000\n",
            "Epoch 17/25\n",
            "1563/1563 [==============================] - 87s 55ms/step - loss: 2.3027 - accuracy: 0.1000 - val_loss: 2.3026 - val_accuracy: 0.1000\n",
            "Epoch 18/25\n",
            "1468/1563 [===========================>..] - ETA: 4s - loss: 2.3028 - accuracy: 0.0983"
          ]
        }
      ]
    },
    {
      "cell_type": "code",
      "source": [
        "y_pred=cnn.predict(x_test)"
      ],
      "metadata": {
        "id": "uqvB9fx_amJ-"
      },
      "execution_count": 17,
      "outputs": []
    },
    {
      "cell_type": "code",
      "source": [
        "cnn.evaluate(x_test,y_test)"
      ],
      "metadata": {
        "colab": {
          "base_uri": "https://localhost:8080/"
        },
        "id": "sb8ES1mUaue8",
        "outputId": "ce9ab0f7-8d07-49da-cab7-d4e167c7f54e"
      },
      "execution_count": 18,
      "outputs": [
        {
          "output_type": "stream",
          "name": "stdout",
          "text": [
            "313/313 [==============================] - 4s 14ms/step - loss: 2.3026 - accuracy: 0.1000\n"
          ]
        },
        {
          "output_type": "execute_result",
          "data": {
            "text/plain": [
              "[2.302618980407715, 0.10000000149011612]"
            ]
          },
          "metadata": {},
          "execution_count": 18
        }
      ]
    },
    {
      "cell_type": "code",
      "source": [
        "y_test=y_test.reshape(-1)\n",
        "y_pred=cnn.predict(x_test)"
      ],
      "metadata": {
        "id": "IWnlVbAUa1dF"
      },
      "execution_count": 19,
      "outputs": []
    },
    {
      "cell_type": "code",
      "source": [
        "y_classes=[np.argmax(element) for element in y_pred]\n",
        "print(\"classification report :\\n\",classification_report(y_test,y_classes))"
      ],
      "metadata": {
        "colab": {
          "base_uri": "https://localhost:8080/"
        },
        "id": "VDYD9U0gbDfP",
        "outputId": "d86c4597-8c0f-4dff-f8d8-df9c677a217f"
      },
      "execution_count": 20,
      "outputs": [
        {
          "output_type": "stream",
          "name": "stdout",
          "text": [
            "classification report :\n",
            "               precision    recall  f1-score   support\n",
            "\n",
            "           0       0.10      1.00      0.18      1000\n",
            "           1       0.00      0.00      0.00      1000\n",
            "           2       0.00      0.00      0.00      1000\n",
            "           3       0.00      0.00      0.00      1000\n",
            "           4       0.00      0.00      0.00      1000\n",
            "           5       0.00      0.00      0.00      1000\n",
            "           6       0.00      0.00      0.00      1000\n",
            "           7       0.00      0.00      0.00      1000\n",
            "           8       0.00      0.00      0.00      1000\n",
            "           9       0.00      0.00      0.00      1000\n",
            "\n",
            "    accuracy                           0.10     10000\n",
            "   macro avg       0.01      0.10      0.02     10000\n",
            "weighted avg       0.01      0.10      0.02     10000\n",
            "\n"
          ]
        },
        {
          "output_type": "stream",
          "name": "stderr",
          "text": [
            "/usr/local/lib/python3.7/dist-packages/sklearn/metrics/_classification.py:1318: UndefinedMetricWarning: Precision and F-score are ill-defined and being set to 0.0 in labels with no predicted samples. Use `zero_division` parameter to control this behavior.\n",
            "  _warn_prf(average, modifier, msg_start, len(result))\n",
            "/usr/local/lib/python3.7/dist-packages/sklearn/metrics/_classification.py:1318: UndefinedMetricWarning: Precision and F-score are ill-defined and being set to 0.0 in labels with no predicted samples. Use `zero_division` parameter to control this behavior.\n",
            "  _warn_prf(average, modifier, msg_start, len(result))\n",
            "/usr/local/lib/python3.7/dist-packages/sklearn/metrics/_classification.py:1318: UndefinedMetricWarning: Precision and F-score are ill-defined and being set to 0.0 in labels with no predicted samples. Use `zero_division` parameter to control this behavior.\n",
            "  _warn_prf(average, modifier, msg_start, len(result))\n"
          ]
        }
      ]
    },
    {
      "cell_type": "code",
      "source": [
        ""
      ],
      "metadata": {
        "id": "36BbjCtMbesX"
      },
      "execution_count": null,
      "outputs": []
    }
  ]
}