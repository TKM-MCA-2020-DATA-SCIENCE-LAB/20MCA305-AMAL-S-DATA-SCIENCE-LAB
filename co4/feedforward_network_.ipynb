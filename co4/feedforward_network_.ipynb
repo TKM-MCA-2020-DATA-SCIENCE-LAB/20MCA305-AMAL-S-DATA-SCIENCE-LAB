{
  "nbformat": 4,
  "nbformat_minor": 0,
  "metadata": {
    "colab": {
      "name": "feedforward network .ipynb",
      "provenance": [],
      "collapsed_sections": []
    },
    "kernelspec": {
      "name": "python3",
      "display_name": "Python 3"
    },
    "language_info": {
      "name": "python"
    }
  },
  "cells": [
    {
      "cell_type": "markdown",
      "source": [
        "COURSE OUTCOME 4\n",
        "\n",
        "PROGRAM NO:14\n",
        "\n",
        "AIM:Programs on feedforward network to classify any standard dataset available in the public domain(Dataset:mnist dataset)"
      ],
      "metadata": {
        "id": "cdMJjR7Q9nVC"
      }
    },
    {
      "cell_type": "code",
      "source": [
        "import keras\n",
        "from keras.datasets import mnist\n",
        "from keras.models import Sequential\n",
        "from keras.layers import Dense\n",
        "from tensorflow.keras.optimizers import SGD\n",
        "from matplotlib import pyplot as plt"
      ],
      "metadata": {
        "id": "Q7xqPSF19wXK"
      },
      "execution_count": 1,
      "outputs": []
    },
    {
      "cell_type": "code",
      "source": [
        "(x_train,y_train),(x_valid,y_valid)=mnist.load_data()\n"
      ],
      "metadata": {
        "colab": {
          "base_uri": "https://localhost:8080/"
        },
        "id": "Zc0jA-d-9ra7",
        "outputId": "a7411054-8a49-487f-eaaf-94c2f762194e"
      },
      "execution_count": 2,
      "outputs": [
        {
          "output_type": "stream",
          "name": "stdout",
          "text": [
            "Downloading data from https://storage.googleapis.com/tensorflow/tf-keras-datasets/mnist.npz\n",
            "11493376/11490434 [==============================] - 0s 0us/step\n",
            "11501568/11490434 [==============================] - 0s 0us/step\n"
          ]
        }
      ]
    },
    {
      "cell_type": "code",
      "source": [
        "type(x_train)"
      ],
      "metadata": {
        "colab": {
          "base_uri": "https://localhost:8080/"
        },
        "id": "78MHoQDu-FNb",
        "outputId": "f443668a-f670-4f31-a963-8d3ce4186e99"
      },
      "execution_count": 3,
      "outputs": [
        {
          "output_type": "execute_result",
          "data": {
            "text/plain": [
              "numpy.ndarray"
            ]
          },
          "metadata": {},
          "execution_count": 3
        }
      ]
    },
    {
      "cell_type": "code",
      "source": [
        "x_train.shape"
      ],
      "metadata": {
        "colab": {
          "base_uri": "https://localhost:8080/"
        },
        "id": "nXlLx420-Ixr",
        "outputId": "04be76c6-5aab-41fe-f159-7240cd78d4a5"
      },
      "execution_count": 4,
      "outputs": [
        {
          "output_type": "execute_result",
          "data": {
            "text/plain": [
              "(60000, 28, 28)"
            ]
          },
          "metadata": {},
          "execution_count": 4
        }
      ]
    },
    {
      "cell_type": "code",
      "source": [
        "y_train.shape"
      ],
      "metadata": {
        "colab": {
          "base_uri": "https://localhost:8080/"
        },
        "id": "PiHkcQ7n-PXj",
        "outputId": "e49b3cb6-8204-41a5-cd66-738e21243c34"
      },
      "execution_count": 5,
      "outputs": [
        {
          "output_type": "execute_result",
          "data": {
            "text/plain": [
              "(60000,)"
            ]
          },
          "metadata": {},
          "execution_count": 5
        }
      ]
    },
    {
      "cell_type": "code",
      "source": [
        "y_train[0:12]"
      ],
      "metadata": {
        "colab": {
          "base_uri": "https://localhost:8080/"
        },
        "id": "m7tybYVw-RVD",
        "outputId": "a0fe5d8c-5a91-42b8-ea2c-039805c7086b"
      },
      "execution_count": 6,
      "outputs": [
        {
          "output_type": "execute_result",
          "data": {
            "text/plain": [
              "array([5, 0, 4, 1, 9, 2, 1, 3, 1, 4, 3, 5], dtype=uint8)"
            ]
          },
          "metadata": {},
          "execution_count": 6
        }
      ]
    },
    {
      "cell_type": "code",
      "source": [
        "plt.figure(figsize=(5,5))\n",
        "for k in range(20):\n",
        "  plt.subplot(10,2,k+1)\n",
        "  plt.imshow(x_train[k],cmap='Greys')\n",
        "  plt.axis('off')\n",
        "plt.show()"
      ],
      "metadata": {
        "colab": {
          "base_uri": "https://localhost:8080/",
          "height": 303
        },
        "id": "gIopCoVB-Ugi",
        "outputId": "82674dcc-5b32-4947-fd7d-158cc10c9edf"
      },
      "execution_count": 7,
      "outputs": [
        {
          "output_type": "display_data",
          "data": {
            "image/png": "[encoded data removed]",
            "text/plain": [
              "<Figure size 360x360 with 20 Axes>"
            ]
          },
          "metadata": {
            "needs_background": "light"
          }
        }
      ]
    },
    {
      "cell_type": "code",
      "source": [
        "plt.imshow(x_valid[0],cmap='Greys')"
      ],
      "metadata": {
        "colab": {
          "base_uri": "https://localhost:8080/",
          "height": 282
        },
        "id": "7otzFMYa-YTi",
        "outputId": "ccfa15a0-327e-4294-e85f-b7c719f6ebcf"
      },
      "execution_count": 8,
      "outputs": [
        {
          "output_type": "execute_result",
          "data": {
            "text/plain": [
              "<matplotlib.image.AxesImage at 0x7fc3e666b450>"
            ]
          },
          "metadata": {},
          "execution_count": 8
        },
        {
          "output_type": "display_data",
          "data": {
            "image/png": "[encoded data removed]",
            "text/plain": [
              "<Figure size 432x288 with 1 Axes>"
            ]
          },
          "metadata": {
            "needs_background": "light"
          }
        }
      ]
    },
    {
      "cell_type": "code",
      "source": [
        "x_valid[0]"
      ],
      "metadata": {
        "colab": {
          "base_uri": "https://localhost:8080/"
        },
        "id": "gsVvuuuA-cBi",
        "outputId": "b7986935-1ba3-4c09-9572-8b20c21ba463"
      },
      "execution_count": 9,
      "outputs": [
        {
          "output_type": "execute_result",
          "data": {
            "text/plain": [
              "array([[  0,   0,   0,   0,   0,   0,   0,   0,   0,   0,   0,   0,   0,\n",
              "          0,   0,   0,   0,   0,   0,   0,   0,   0,   0,   0,   0,   0,\n",
              "          0,   0],\n",
              "       [  0,   0,   0,   0,   0,   0,   0,   0,   0,   0,   0,   0,   0,\n",
              "          0,   0,   0,   0,   0,   0,   0,   0,   0,   0,   0,   0,   0,\n",
              "          0,   0],\n",
              "       [  0,   0,   0,   0,   0,   0,   0,   0,   0,   0,   0,   0,   0,\n",
              "          0,   0,   0,   0,   0,   0,   0,   0,   0,   0,   0,   0,   0,\n",
              "          0,   0],\n",
              "       [  0,   0,   0,   0,   0,   0,   0,   0,   0,   0,   0,   0,   0,\n",
              "          0,   0,   0,   0,   0,   0,   0,   0,   0,   0,   0,   0,   0,\n",
              "          0,   0],\n",
              "       [  0,   0,   0,   0,   0,   0,   0,   0,   0,   0,   0,   0,   0,\n",
              "          0,   0,   0,   0,   0,   0,   0,   0,   0,   0,   0,   0,   0,\n",
              "          0,   0],\n",
              "       [  0,   0,   0,   0,   0,   0,   0,   0,   0,   0,   0,   0,   0,\n",
              "          0,   0,   0,   0,   0,   0,   0,   0,   0,   0,   0,   0,   0,\n",
              "          0,   0],\n",
              "       [  0,   0,   0,   0,   0,   0,   0,   0,   0,   0,   0,   0,   0,\n",
              "          0,   0,   0,   0,   0,   0,   0,   0,   0,   0,   0,   0,   0,\n",
              "          0,   0],\n",
              "       [  0,   0,   0,   0,   0,   0,  84, 185, 159, 151,  60,  36,   0,\n",
              "          0,   0,   0,   0,   0,   0,   0,   0,   0,   0,   0,   0,   0,\n",
              "          0,   0],\n",
              "       [  0,   0,   0,   0,   0,   0, 222, 254, 254, 254, 254, 241, 198,\n",
              "        198, 198, 198, 198, 198, 198, 198, 170,  52,   0,   0,   0,   0,\n",
              "          0,   0],\n",
              "       [  0,   0,   0,   0,   0,   0,  67, 114,  72, 114, 163, 227, 254,\n",
              "        225, 254, 254, 254, 250, 229, 254, 254, 140,   0,   0,   0,   0,\n",
              "          0,   0],\n",
              "       [  0,   0,   0,   0,   0,   0,   0,   0,   0,   0,   0,  17,  66,\n",
              "         14,  67,  67,  67,  59,  21, 236, 254, 106,   0,   0,   0,   0,\n",
              "          0,   0],\n",
              "       [  0,   0,   0,   0,   0,   0,   0,   0,   0,   0,   0,   0,   0,\n",
              "          0,   0,   0,   0,   0,  83, 253, 209,  18,   0,   0,   0,   0,\n",
              "          0,   0],\n",
              "       [  0,   0,   0,   0,   0,   0,   0,   0,   0,   0,   0,   0,   0,\n",
              "          0,   0,   0,   0,  22, 233, 255,  83,   0,   0,   0,   0,   0,\n",
              "          0,   0],\n",
              "       [  0,   0,   0,   0,   0,   0,   0,   0,   0,   0,   0,   0,   0,\n",
              "          0,   0,   0,   0, 129, 254, 238,  44,   0,   0,   0,   0,   0,\n",
              "          0,   0],\n",
              "       [  0,   0,   0,   0,   0,   0,   0,   0,   0,   0,   0,   0,   0,\n",
              "          0,   0,   0,  59, 249, 254,  62,   0,   0,   0,   0,   0,   0,\n",
              "          0,   0],\n",
              "       [  0,   0,   0,   0,   0,   0,   0,   0,   0,   0,   0,   0,   0,\n",
              "          0,   0,   0, 133, 254, 187,   5,   0,   0,   0,   0,   0,   0,\n",
              "          0,   0],\n",
              "       [  0,   0,   0,   0,   0,   0,   0,   0,   0,   0,   0,   0,   0,\n",
              "          0,   0,   9, 205, 248,  58,   0,   0,   0,   0,   0,   0,   0,\n",
              "          0,   0],\n",
              "       [  0,   0,   0,   0,   0,   0,   0,   0,   0,   0,   0,   0,   0,\n",
              "          0,   0, 126, 254, 182,   0,   0,   0,   0,   0,   0,   0,   0,\n",
              "          0,   0],\n",
              "       [  0,   0,   0,   0,   0,   0,   0,   0,   0,   0,   0,   0,   0,\n",
              "          0,  75, 251, 240,  57,   0,   0,   0,   0,   0,   0,   0,   0,\n",
              "          0,   0],\n",
              "       [  0,   0,   0,   0,   0,   0,   0,   0,   0,   0,   0,   0,   0,\n",
              "         19, 221, 254, 166,   0,   0,   0,   0,   0,   0,   0,   0,   0,\n",
              "          0,   0],\n",
              "       [  0,   0,   0,   0,   0,   0,   0,   0,   0,   0,   0,   0,   3,\n",
              "        203, 254, 219,  35,   0,   0,   0,   0,   0,   0,   0,   0,   0,\n",
              "          0,   0],\n",
              "       [  0,   0,   0,   0,   0,   0,   0,   0,   0,   0,   0,   0,  38,\n",
              "        254, 254,  77,   0,   0,   0,   0,   0,   0,   0,   0,   0,   0,\n",
              "          0,   0],\n",
              "       [  0,   0,   0,   0,   0,   0,   0,   0,   0,   0,   0,  31, 224,\n",
              "        254, 115,   1,   0,   0,   0,   0,   0,   0,   0,   0,   0,   0,\n",
              "          0,   0],\n",
              "       [  0,   0,   0,   0,   0,   0,   0,   0,   0,   0,   0, 133, 254,\n",
              "        254,  52,   0,   0,   0,   0,   0,   0,   0,   0,   0,   0,   0,\n",
              "          0,   0],\n",
              "       [  0,   0,   0,   0,   0,   0,   0,   0,   0,   0,  61, 242, 254,\n",
              "        254,  52,   0,   0,   0,   0,   0,   0,   0,   0,   0,   0,   0,\n",
              "          0,   0],\n",
              "       [  0,   0,   0,   0,   0,   0,   0,   0,   0,   0, 121, 254, 254,\n",
              "        219,  40,   0,   0,   0,   0,   0,   0,   0,   0,   0,   0,   0,\n",
              "          0,   0],\n",
              "       [  0,   0,   0,   0,   0,   0,   0,   0,   0,   0, 121, 254, 207,\n",
              "         18,   0,   0,   0,   0,   0,   0,   0,   0,   0,   0,   0,   0,\n",
              "          0,   0],\n",
              "       [  0,   0,   0,   0,   0,   0,   0,   0,   0,   0,   0,   0,   0,\n",
              "          0,   0,   0,   0,   0,   0,   0,   0,   0,   0,   0,   0,   0,\n",
              "          0,   0]], dtype=uint8)"
            ]
          },
          "metadata": {},
          "execution_count": 9
        }
      ]
    },
    {
      "cell_type": "code",
      "source": [
        "#preprocess data\n",
        "\n",
        "x_train = x_train.reshape(60000,784).astype('float32')\n",
        "x_valid = x_valid.reshape(10000,784).astype('float32')"
      ],
      "metadata": {
        "id": "oAd0RZCL-fyC"
      },
      "execution_count": 10,
      "outputs": []
    },
    {
      "cell_type": "code",
      "source": [
        "x_train/=255\n",
        "x_valid/=255\n",
        "x_valid[0]"
      ],
      "metadata": {
        "colab": {
          "base_uri": "https://localhost:8080/"
        },
        "id": "JG9VMa3G-jlz",
        "outputId": "cdd9b90c-b397-4907-ca68-d8620a336b76"
      },
      "execution_count": 11,
      "outputs": [
        {
          "output_type": "execute_result",
          "data": {
            "text/plain": [
              "array([0.        , 0.        , 0.        , 0.        , 0.        ,\n",
              "       0.        , 0.        , 0.        , 0.        , 0.        ,\n",
              "       0.        , 0.        , 0.        , 0.        , 0.        ,\n",
              "       0.        , 0.        , 0.        , 0.        , 0.        ,\n",
              "       0.        , 0.        , 0.        , 0.        , 0.        ,\n",
              "       0.        , 0.        , 0.        , 0.        , 0.        ,\n",
              "       0.        , 0.        , 0.        , 0.        , 0.        ,\n",
              "       0.        , 0.        , 0.        , 0.        , 0.        ,\n",
              "       0.        , 0.        , 0.        , 0.        , 0.        ,\n",
              "       0.        , 0.        , 0.        , 0.        , 0.        ,\n",
              "       0.        , 0.        , 0.        , 0.        , 0.        ,\n",
              "       0.        , 0.        , 0.        , 0.        , 0.        ,\n",
              "       0.        , 0.        , 0.        , 0.        , 0.        ,\n",
              "       0.        , 0.        , 0.        , 0.        , 0.        ,\n",
              "       0.        , 0.        , 0.        , 0.        , 0.        ,\n",
              "       0.        , 0.        , 0.        , 0.        , 0.        ,\n",
              "       0.        , 0.        , 0.        , 0.        , 0.        ,\n",
              "       0.        , 0.        , 0.        , 0.        , 0.        ,\n",
              "       0.        , 0.        , 0.        , 0.        , 0.        ,\n",
              "       0.        , 0.        , 0.        , 0.        , 0.        ,\n",
              "       0.        , 0.        , 0.        , 0.        , 0.        ,\n",
              "       0.        , 0.        , 0.        , 0.        , 0.        ,\n",
              "       0.        , 0.        , 0.        , 0.        , 0.        ,\n",
              "       0.        , 0.        , 0.        , 0.        , 0.        ,\n",
              "       0.        , 0.        , 0.        , 0.        , 0.        ,\n",
              "       0.        , 0.        , 0.        , 0.        , 0.        ,\n",
              "       0.        , 0.        , 0.        , 0.        , 0.        ,\n",
              "       0.        , 0.        , 0.        , 0.        , 0.        ,\n",
              "       0.        , 0.        , 0.        , 0.        , 0.        ,\n",
              "       0.        , 0.        , 0.        , 0.        , 0.        ,\n",
              "       0.        , 0.        , 0.        , 0.        , 0.        ,\n",
              "       0.        , 0.        , 0.        , 0.        , 0.        ,\n",
              "       0.        , 0.        , 0.        , 0.        , 0.        ,\n",
              "       0.        , 0.        , 0.        , 0.        , 0.        ,\n",
              "       0.        , 0.        , 0.        , 0.        , 0.        ,\n",
              "       0.        , 0.        , 0.        , 0.        , 0.        ,\n",
              "       0.        , 0.        , 0.        , 0.        , 0.        ,\n",
              "       0.        , 0.        , 0.        , 0.        , 0.        ,\n",
              "       0.        , 0.        , 0.        , 0.        , 0.        ,\n",
              "       0.        , 0.        , 0.        , 0.        , 0.        ,\n",
              "       0.        , 0.        , 0.32941177, 0.7254902 , 0.62352943,\n",
              "       0.5921569 , 0.23529412, 0.14117648, 0.        , 0.        ,\n",
              "       0.        , 0.        , 0.        , 0.        , 0.        ,\n",
              "       0.        , 0.        , 0.        , 0.        , 0.        ,\n",
              "       0.        , 0.        , 0.        , 0.        , 0.        ,\n",
              "       0.        , 0.        , 0.        , 0.        , 0.        ,\n",
              "       0.87058824, 0.99607843, 0.99607843, 0.99607843, 0.99607843,\n",
              "       0.94509804, 0.7764706 , 0.7764706 , 0.7764706 , 0.7764706 ,\n",
              "       0.7764706 , 0.7764706 , 0.7764706 , 0.7764706 , 0.6666667 ,\n",
              "       0.20392157, 0.        , 0.        , 0.        , 0.        ,\n",
              "       0.        , 0.        , 0.        , 0.        , 0.        ,\n",
              "       0.        , 0.        , 0.        , 0.2627451 , 0.44705883,\n",
              "       0.28235295, 0.44705883, 0.6392157 , 0.8901961 , 0.99607843,\n",
              "       0.88235295, 0.99607843, 0.99607843, 0.99607843, 0.98039216,\n",
              "       0.8980392 , 0.99607843, 0.99607843, 0.54901963, 0.        ,\n",
              "       0.        , 0.        , 0.        , 0.        , 0.        ,\n",
              "       0.        , 0.        , 0.        , 0.        , 0.        ,\n",
              "       0.        , 0.        , 0.        , 0.        , 0.        ,\n",
              "       0.        , 0.06666667, 0.25882354, 0.05490196, 0.2627451 ,\n",
              "       0.2627451 , 0.2627451 , 0.23137255, 0.08235294, 0.9254902 ,\n",
              "       0.99607843, 0.41568628, 0.        , 0.        , 0.        ,\n",
              "       0.        , 0.        , 0.        , 0.        , 0.        ,\n",
              "       0.        , 0.        , 0.        , 0.        , 0.        ,\n",
              "       0.        , 0.        , 0.        , 0.        , 0.        ,\n",
              "       0.        , 0.        , 0.        , 0.        , 0.        ,\n",
              "       0.        , 0.3254902 , 0.99215686, 0.81960785, 0.07058824,\n",
              "       0.        , 0.        , 0.        , 0.        , 0.        ,\n",
              "       0.        , 0.        , 0.        , 0.        , 0.        ,\n",
              "       0.        , 0.        , 0.        , 0.        , 0.        ,\n",
              "       0.        , 0.        , 0.        , 0.        , 0.        ,\n",
              "       0.        , 0.        , 0.        , 0.08627451, 0.9137255 ,\n",
              "       1.        , 0.3254902 , 0.        , 0.        , 0.        ,\n",
              "       0.        , 0.        , 0.        , 0.        , 0.        ,\n",
              "       0.        , 0.        , 0.        , 0.        , 0.        ,\n",
              "       0.        , 0.        , 0.        , 0.        , 0.        ,\n",
              "       0.        , 0.        , 0.        , 0.        , 0.        ,\n",
              "       0.        , 0.5058824 , 0.99607843, 0.93333334, 0.17254902,\n",
              "       0.        , 0.        , 0.        , 0.        , 0.        ,\n",
              "       0.        , 0.        , 0.        , 0.        , 0.        ,\n",
              "       0.        , 0.        , 0.        , 0.        , 0.        ,\n",
              "       0.        , 0.        , 0.        , 0.        , 0.        ,\n",
              "       0.        , 0.        , 0.        , 0.23137255, 0.9764706 ,\n",
              "       0.99607843, 0.24313726, 0.        , 0.        , 0.        ,\n",
              "       0.        , 0.        , 0.        , 0.        , 0.        ,\n",
              "       0.        , 0.        , 0.        , 0.        , 0.        ,\n",
              "       0.        , 0.        , 0.        , 0.        , 0.        ,\n",
              "       0.        , 0.        , 0.        , 0.        , 0.        ,\n",
              "       0.        , 0.52156866, 0.99607843, 0.73333335, 0.01960784,\n",
              "       0.        , 0.        , 0.        , 0.        , 0.        ,\n",
              "       0.        , 0.        , 0.        , 0.        , 0.        ,\n",
              "       0.        , 0.        , 0.        , 0.        , 0.        ,\n",
              "       0.        , 0.        , 0.        , 0.        , 0.        ,\n",
              "       0.        , 0.        , 0.        , 0.03529412, 0.8039216 ,\n",
              "       0.972549  , 0.22745098, 0.        , 0.        , 0.        ,\n",
              "       0.        , 0.        , 0.        , 0.        , 0.        ,\n",
              "       0.        , 0.        , 0.        , 0.        , 0.        ,\n",
              "       0.        , 0.        , 0.        , 0.        , 0.        ,\n",
              "       0.        , 0.        , 0.        , 0.        , 0.        ,\n",
              "       0.        , 0.49411765, 0.99607843, 0.7137255 , 0.        ,\n",
              "       0.        , 0.        , 0.        , 0.        , 0.        ,\n",
              "       0.        , 0.        , 0.        , 0.        , 0.        ,\n",
              "       0.        , 0.        , 0.        , 0.        , 0.        ,\n",
              "       0.        , 0.        , 0.        , 0.        , 0.        ,\n",
              "       0.        , 0.        , 0.        , 0.29411766, 0.9843137 ,\n",
              "       0.9411765 , 0.22352941, 0.        , 0.        , 0.        ,\n",
              "       0.        , 0.        , 0.        , 0.        , 0.        ,\n",
              "       0.        , 0.        , 0.        , 0.        , 0.        ,\n",
              "       0.        , 0.        , 0.        , 0.        , 0.        ,\n",
              "       0.        , 0.        , 0.        , 0.        , 0.        ,\n",
              "       0.07450981, 0.8666667 , 0.99607843, 0.6509804 , 0.        ,\n",
              "       0.        , 0.        , 0.        , 0.        , 0.        ,\n",
              "       0.        , 0.        , 0.        , 0.        , 0.        ,\n",
              "       0.        , 0.        , 0.        , 0.        , 0.        ,\n",
              "       0.        , 0.        , 0.        , 0.        , 0.        ,\n",
              "       0.        , 0.        , 0.01176471, 0.79607844, 0.99607843,\n",
              "       0.85882354, 0.13725491, 0.        , 0.        , 0.        ,\n",
              "       0.        , 0.        , 0.        , 0.        , 0.        ,\n",
              "       0.        , 0.        , 0.        , 0.        , 0.        ,\n",
              "       0.        , 0.        , 0.        , 0.        , 0.        ,\n",
              "       0.        , 0.        , 0.        , 0.        , 0.        ,\n",
              "       0.14901961, 0.99607843, 0.99607843, 0.3019608 , 0.        ,\n",
              "       0.        , 0.        , 0.        , 0.        , 0.        ,\n",
              "       0.        , 0.        , 0.        , 0.        , 0.        ,\n",
              "       0.        , 0.        , 0.        , 0.        , 0.        ,\n",
              "       0.        , 0.        , 0.        , 0.        , 0.        ,\n",
              "       0.        , 0.        , 0.12156863, 0.8784314 , 0.99607843,\n",
              "       0.4509804 , 0.00392157, 0.        , 0.        , 0.        ,\n",
              "       0.        , 0.        , 0.        , 0.        , 0.        ,\n",
              "       0.        , 0.        , 0.        , 0.        , 0.        ,\n",
              "       0.        , 0.        , 0.        , 0.        , 0.        ,\n",
              "       0.        , 0.        , 0.        , 0.        , 0.        ,\n",
              "       0.52156866, 0.99607843, 0.99607843, 0.20392157, 0.        ,\n",
              "       0.        , 0.        , 0.        , 0.        , 0.        ,\n",
              "       0.        , 0.        , 0.        , 0.        , 0.        ,\n",
              "       0.        , 0.        , 0.        , 0.        , 0.        ,\n",
              "       0.        , 0.        , 0.        , 0.        , 0.        ,\n",
              "       0.        , 0.        , 0.23921569, 0.9490196 , 0.99607843,\n",
              "       0.99607843, 0.20392157, 0.        , 0.        , 0.        ,\n",
              "       0.        , 0.        , 0.        , 0.        , 0.        ,\n",
              "       0.        , 0.        , 0.        , 0.        , 0.        ,\n",
              "       0.        , 0.        , 0.        , 0.        , 0.        ,\n",
              "       0.        , 0.        , 0.        , 0.        , 0.        ,\n",
              "       0.4745098 , 0.99607843, 0.99607843, 0.85882354, 0.15686275,\n",
              "       0.        , 0.        , 0.        , 0.        , 0.        ,\n",
              "       0.        , 0.        , 0.        , 0.        , 0.        ,\n",
              "       0.        , 0.        , 0.        , 0.        , 0.        ,\n",
              "       0.        , 0.        , 0.        , 0.        , 0.        ,\n",
              "       0.        , 0.        , 0.        , 0.4745098 , 0.99607843,\n",
              "       0.8117647 , 0.07058824, 0.        , 0.        , 0.        ,\n",
              "       0.        , 0.        , 0.        , 0.        , 0.        ,\n",
              "       0.        , 0.        , 0.        , 0.        , 0.        ,\n",
              "       0.        , 0.        , 0.        , 0.        , 0.        ,\n",
              "       0.        , 0.        , 0.        , 0.        , 0.        ,\n",
              "       0.        , 0.        , 0.        , 0.        , 0.        ,\n",
              "       0.        , 0.        , 0.        , 0.        , 0.        ,\n",
              "       0.        , 0.        , 0.        , 0.        , 0.        ,\n",
              "       0.        , 0.        , 0.        , 0.        ], dtype=float32)"
            ]
          },
          "metadata": {},
          "execution_count": 11
        }
      ]
    },
    {
      "cell_type": "code",
      "source": [
        "from keras import utils as np_utils\n",
        "n_classes=10\n",
        "y_train=keras.utils.np_utils.to_categorical(y_train,n_classes)\n",
        "y_valid=keras.utils.np_utils.to_categorical(y_valid,n_classes)"
      ],
      "metadata": {
        "id": "Xuumj7Tk-m_r"
      },
      "execution_count": 12,
      "outputs": []
    },
    {
      "cell_type": "code",
      "source": [
        "y_valid[0]"
      ],
      "metadata": {
        "colab": {
          "base_uri": "https://localhost:8080/"
        },
        "id": "inhEso3k-tTK",
        "outputId": "71993e82-b90f-4830-9f4b-306574dffbe0"
      },
      "execution_count": 13,
      "outputs": [
        {
          "output_type": "execute_result",
          "data": {
            "text/plain": [
              "array([0., 0., 0., 0., 0., 0., 0., 1., 0., 0.], dtype=float32)"
            ]
          },
          "metadata": {},
          "execution_count": 13
        }
      ]
    },
    {
      "cell_type": "code",
      "source": [
        "x_valid[3]"
      ],
      "metadata": {
        "colab": {
          "base_uri": "https://localhost:8080/"
        },
        "id": "MqsdcQr8-wdy",
        "outputId": "47958530-889d-4876-d959-63adcae9b97e"
      },
      "execution_count": 14,
      "outputs": [
        {
          "output_type": "execute_result",
          "data": {
            "text/plain": [
              "array([0.        , 0.        , 0.        , 0.        , 0.        ,\n",
              "       0.        , 0.        , 0.        , 0.        , 0.        ,\n",
              "       0.        , 0.        , 0.        , 0.        , 0.        ,\n",
              "       0.        , 0.        , 0.        , 0.        , 0.        ,\n",
              "       0.        , 0.        , 0.        , 0.        , 0.        ,\n",
              "       0.        , 0.        , 0.        , 0.        , 0.        ,\n",
              "       0.        , 0.        , 0.        , 0.        , 0.        ,\n",
              "       0.        , 0.        , 0.        , 0.        , 0.        ,\n",
              "       0.        , 0.        , 0.        , 0.        , 0.        ,\n",
              "       0.        , 0.        , 0.        , 0.        , 0.        ,\n",
              "       0.        , 0.        , 0.        , 0.        , 0.        ,\n",
              "       0.        , 0.        , 0.        , 0.        , 0.        ,\n",
              "       0.        , 0.        , 0.        , 0.        , 0.        ,\n",
              "       0.        , 0.        , 0.        , 0.        , 0.        ,\n",
              "       0.        , 0.        , 0.        , 0.        , 0.        ,\n",
              "       0.        , 0.        , 0.        , 0.        , 0.        ,\n",
              "       0.        , 0.        , 0.        , 0.        , 0.        ,\n",
              "       0.        , 0.        , 0.        , 0.        , 0.        ,\n",
              "       0.        , 0.        , 0.        , 0.        , 0.        ,\n",
              "       0.        , 0.        , 0.        , 0.        , 0.        ,\n",
              "       0.        , 0.        , 0.        , 0.        , 0.        ,\n",
              "       0.        , 0.        , 0.        , 0.        , 0.        ,\n",
              "       0.        , 0.        , 0.        , 0.        , 0.        ,\n",
              "       0.        , 0.        , 0.        , 0.        , 0.        ,\n",
              "       0.        , 0.        , 0.        , 0.        , 0.04313726,\n",
              "       0.5882353 , 0.99215686, 0.7921569 , 0.12156863, 0.        ,\n",
              "       0.        , 0.        , 0.        , 0.        , 0.        ,\n",
              "       0.        , 0.        , 0.        , 0.        , 0.        ,\n",
              "       0.        , 0.        , 0.        , 0.        , 0.        ,\n",
              "       0.        , 0.        , 0.        , 0.        , 0.        ,\n",
              "       0.        , 0.        , 0.14509805, 0.9843137 , 0.9843137 ,\n",
              "       0.99215686, 0.41960785, 0.        , 0.        , 0.        ,\n",
              "       0.        , 0.        , 0.        , 0.        , 0.        ,\n",
              "       0.        , 0.        , 0.        , 0.        , 0.        ,\n",
              "       0.        , 0.        , 0.        , 0.        , 0.        ,\n",
              "       0.        , 0.        , 0.        , 0.        , 0.08235294,\n",
              "       0.77254903, 0.9843137 , 0.9843137 , 0.99215686, 0.41960785,\n",
              "       0.        , 0.        , 0.        , 0.        , 0.        ,\n",
              "       0.        , 0.        , 0.        , 0.        , 0.        ,\n",
              "       0.        , 0.        , 0.        , 0.        , 0.        ,\n",
              "       0.        , 0.        , 0.        , 0.        , 0.        ,\n",
              "       0.        , 0.43137255, 0.74509805, 0.9843137 , 0.9843137 ,\n",
              "       0.9843137 , 0.99215686, 0.6627451 , 0.42745098, 0.24313726,\n",
              "       0.        , 0.        , 0.        , 0.        , 0.        ,\n",
              "       0.        , 0.        , 0.        , 0.        , 0.        ,\n",
              "       0.        , 0.        , 0.        , 0.        , 0.        ,\n",
              "       0.        , 0.        , 0.        , 0.        , 0.99215686,\n",
              "       0.9843137 , 0.9843137 , 0.9843137 , 0.9843137 , 0.99215686,\n",
              "       0.9843137 , 0.9843137 , 0.8627451 , 0.2       , 0.        ,\n",
              "       0.        , 0.        , 0.        , 0.        , 0.        ,\n",
              "       0.        , 0.        , 0.        , 0.        , 0.        ,\n",
              "       0.        , 0.        , 0.        , 0.        , 0.        ,\n",
              "       0.        , 0.7137255 , 1.        , 0.99215686, 0.99215686,\n",
              "       0.99215686, 0.99215686, 0.91764706, 0.87058824, 0.99215686,\n",
              "       0.99215686, 0.99215686, 0.        , 0.        , 0.        ,\n",
              "       0.        , 0.        , 0.        , 0.        , 0.        ,\n",
              "       0.        , 0.        , 0.        , 0.        , 0.        ,\n",
              "       0.        , 0.        , 0.        , 0.24705882, 0.8666667 ,\n",
              "       0.99215686, 0.9843137 , 0.9843137 , 0.9843137 , 0.5764706 ,\n",
              "       0.3019608 , 0.24313726, 0.5019608 , 0.9843137 , 0.9843137 ,\n",
              "       0.4117647 , 0.        , 0.        , 0.        , 0.        ,\n",
              "       0.        , 0.        , 0.        , 0.        , 0.        ,\n",
              "       0.        , 0.        , 0.        , 0.        , 0.        ,\n",
              "       0.1254902 , 0.90588236, 0.9843137 , 0.99215686, 0.9843137 ,\n",
              "       0.8627451 , 0.5372549 , 0.03921569, 0.        , 0.        ,\n",
              "       0.12156863, 0.9019608 , 0.9843137 , 0.9529412 , 0.44313726,\n",
              "       0.01960784, 0.        , 0.        , 0.        , 0.        ,\n",
              "       0.        , 0.        , 0.        , 0.        , 0.        ,\n",
              "       0.        , 0.        , 0.        , 0.14509805, 0.9843137 ,\n",
              "       0.9843137 , 0.99215686, 0.7372549 , 0.07843138, 0.        ,\n",
              "       0.        , 0.        , 0.        , 0.        , 0.42745098,\n",
              "       0.9843137 , 0.99215686, 0.9843137 , 0.13725491, 0.        ,\n",
              "       0.        , 0.        , 0.        , 0.        , 0.        ,\n",
              "       0.        , 0.        , 0.        , 0.        , 0.        ,\n",
              "       0.        , 0.14509805, 0.9843137 , 0.9843137 , 0.7882353 ,\n",
              "       0.11764706, 0.        , 0.        , 0.        , 0.        ,\n",
              "       0.        , 0.        , 0.12156863, 0.78431374, 0.99215686,\n",
              "       0.9843137 , 0.13725491, 0.        , 0.        , 0.        ,\n",
              "       0.        , 0.        , 0.        , 0.        , 0.        ,\n",
              "       0.        , 0.        , 0.        , 0.        , 0.14509805,\n",
              "       0.99215686, 0.99215686, 0.        , 0.        , 0.        ,\n",
              "       0.        , 0.        , 0.        , 0.        , 0.        ,\n",
              "       0.1254902 , 0.7921569 , 1.        , 0.99215686, 0.6431373 ,\n",
              "       0.        , 0.        , 0.        , 0.        , 0.        ,\n",
              "       0.        , 0.        , 0.        , 0.        , 0.        ,\n",
              "       0.        , 0.        , 0.54901963, 0.9843137 , 0.9843137 ,\n",
              "       0.        , 0.        , 0.        , 0.        , 0.        ,\n",
              "       0.        , 0.        , 0.        , 0.42745098, 0.9843137 ,\n",
              "       0.99215686, 0.9843137 , 0.13725491, 0.        , 0.        ,\n",
              "       0.        , 0.        , 0.        , 0.        , 0.        ,\n",
              "       0.        , 0.        , 0.        , 0.        , 0.        ,\n",
              "       0.8509804 , 0.9843137 , 0.9843137 , 0.        , 0.        ,\n",
              "       0.        , 0.        , 0.        , 0.        , 0.08235294,\n",
              "       0.24705882, 0.90588236, 0.9843137 , 0.99215686, 0.9019608 ,\n",
              "       0.11764706, 0.        , 0.        , 0.        , 0.        ,\n",
              "       0.        , 0.        , 0.        , 0.        , 0.        ,\n",
              "       0.        , 0.        , 0.        , 0.8509804 , 0.9843137 ,\n",
              "       0.9843137 , 0.        , 0.        , 0.        , 0.        ,\n",
              "       0.        , 0.        , 0.5647059 , 0.9843137 , 0.9843137 ,\n",
              "       0.9843137 , 0.8666667 , 0.23921569, 0.        , 0.        ,\n",
              "       0.        , 0.        , 0.        , 0.        , 0.        ,\n",
              "       0.        , 0.        , 0.        , 0.        , 0.        ,\n",
              "       0.        , 0.8509804 , 0.9843137 , 0.9843137 , 0.        ,\n",
              "       0.        , 0.        , 0.        , 0.        , 0.7137255 ,\n",
              "       0.8666667 , 0.9843137 , 0.9843137 , 0.9843137 , 0.7058824 ,\n",
              "       0.        , 0.        , 0.        , 0.        , 0.        ,\n",
              "       0.        , 0.        , 0.        , 0.        , 0.        ,\n",
              "       0.        , 0.        , 0.        , 0.        , 0.85490197,\n",
              "       0.99215686, 0.99215686, 0.28627452, 0.28627452, 0.89411765,\n",
              "       0.99215686, 0.99215686, 1.        , 0.99215686, 0.99215686,\n",
              "       0.99215686, 0.99215686, 0.        , 0.        , 0.        ,\n",
              "       0.        , 0.        , 0.        , 0.        , 0.        ,\n",
              "       0.        , 0.        , 0.        , 0.        , 0.        ,\n",
              "       0.        , 0.        , 0.44313726, 0.9843137 , 0.9843137 ,\n",
              "       0.99215686, 0.9843137 , 0.9843137 , 0.9843137 , 0.9843137 ,\n",
              "       0.99215686, 0.9843137 , 0.9843137 , 0.9843137 , 0.5764706 ,\n",
              "       0.        , 0.        , 0.        , 0.        , 0.        ,\n",
              "       0.        , 0.        , 0.        , 0.        , 0.        ,\n",
              "       0.        , 0.        , 0.        , 0.        , 0.        ,\n",
              "       0.12156863, 0.9019608 , 0.9843137 , 0.99215686, 0.9843137 ,\n",
              "       0.9843137 , 0.9843137 , 0.9843137 , 0.99215686, 0.9019608 ,\n",
              "       0.7411765 , 0.13725491, 0.03921569, 0.        , 0.        ,\n",
              "       0.        , 0.        , 0.        , 0.        , 0.        ,\n",
              "       0.        , 0.        , 0.        , 0.        , 0.        ,\n",
              "       0.        , 0.        , 0.        , 0.        , 0.24313726,\n",
              "       0.5568628 , 0.99215686, 0.9843137 , 0.9843137 , 0.9843137 ,\n",
              "       0.9843137 , 0.99215686, 0.41960785, 0.        , 0.        ,\n",
              "       0.        , 0.        , 0.        , 0.        , 0.        ,\n",
              "       0.        , 0.        , 0.        , 0.        , 0.        ,\n",
              "       0.        , 0.        , 0.        , 0.        , 0.        ,\n",
              "       0.        , 0.        , 0.        , 0.        , 0.28235295,\n",
              "       0.68235296, 0.9843137 , 0.6784314 , 0.2784314 , 0.28235295,\n",
              "       0.11764706, 0.        , 0.        , 0.        , 0.        ,\n",
              "       0.        , 0.        , 0.        , 0.        , 0.        ,\n",
              "       0.        , 0.        , 0.        , 0.        , 0.        ,\n",
              "       0.        , 0.        , 0.        , 0.        , 0.        ,\n",
              "       0.        , 0.        , 0.        , 0.        , 0.        ,\n",
              "       0.        , 0.        , 0.        , 0.        , 0.        ,\n",
              "       0.        , 0.        , 0.        , 0.        , 0.        ,\n",
              "       0.        , 0.        , 0.        , 0.        , 0.        ,\n",
              "       0.        , 0.        , 0.        , 0.        , 0.        ,\n",
              "       0.        , 0.        , 0.        , 0.        , 0.        ,\n",
              "       0.        , 0.        , 0.        , 0.        , 0.        ,\n",
              "       0.        , 0.        , 0.        , 0.        , 0.        ,\n",
              "       0.        , 0.        , 0.        , 0.        , 0.        ,\n",
              "       0.        , 0.        , 0.        , 0.        , 0.        ,\n",
              "       0.        , 0.        , 0.        , 0.        , 0.        ,\n",
              "       0.        , 0.        , 0.        , 0.        , 0.        ,\n",
              "       0.        , 0.        , 0.        , 0.        , 0.        ,\n",
              "       0.        , 0.        , 0.        , 0.        , 0.        ,\n",
              "       0.        , 0.        , 0.        , 0.        , 0.        ,\n",
              "       0.        , 0.        , 0.        , 0.        , 0.        ,\n",
              "       0.        , 0.        , 0.        , 0.        , 0.        ,\n",
              "       0.        , 0.        , 0.        , 0.        , 0.        ,\n",
              "       0.        , 0.        , 0.        , 0.        , 0.        ,\n",
              "       0.        , 0.        , 0.        , 0.        , 0.        ,\n",
              "       0.        , 0.        , 0.        , 0.        ], dtype=float32)"
            ]
          },
          "metadata": {},
          "execution_count": 14
        }
      ]
    },
    {
      "cell_type": "code",
      "source": [
        "model=Sequential()\n",
        "#neurons in dense layers receive output from neurons of previous layer\n",
        "\n",
        "model.add(Dense(64, activation='sigmoid',input_shape=(784,)))\n",
        "model.add(Dense(10,activation='softmax'))\n",
        "model.summary()"
      ],
      "metadata": {
        "colab": {
          "base_uri": "https://localhost:8080/"
        },
        "id": "7rYsb7vo-zzi",
        "outputId": "63da0add-1b22-41b2-b3d9-a07baeaed0dd"
      },
      "execution_count": 15,
      "outputs": [
        {
          "output_type": "stream",
          "name": "stdout",
          "text": [
            "Model: \"sequential\"\n",
            "_________________________________________________________________\n",
            " Layer (type)                Output Shape              Param #   \n",
            "=================================================================\n",
            " dense (Dense)               (None, 64)                50240     \n",
            "                                                                 \n",
            " dense_1 (Dense)             (None, 10)                650       \n",
            "                                                                 \n",
            "=================================================================\n",
            "Total params: 50,890\n",
            "Trainable params: 50,890\n",
            "Non-trainable params: 0\n",
            "_________________________________________________________________\n"
          ]
        }
      ]
    },
    {
      "cell_type": "code",
      "source": [
        "model.compile(loss='mean_squared_error',optimizer=SGD(learning_rate=0.01),metrics=['accuracy'])\n",
        "history=model.fit(x_train,y_train,batch_size=125,epochs=75,verbose=1)"
      ],
      "metadata": {
        "colab": {
          "base_uri": "https://localhost:8080/"
        },
        "id": "0mK456-k-3jq",
        "outputId": "96fc174a-9be6-490b-bd1f-c80c9029c065"
      },
      "execution_count": 16,
      "outputs": [
        {
          "output_type": "stream",
          "name": "stdout",
          "text": [
            "Epoch 1/75\n",
            "480/480 [==============================] - 4s 7ms/step - loss: 0.0924 - accuracy: 0.0712\n",
            "Epoch 2/75\n",
            "480/480 [==============================] - 2s 4ms/step - loss: 0.0915 - accuracy: 0.0553\n",
            "Epoch 3/75\n",
            "480/480 [==============================] - 2s 3ms/step - loss: 0.0909 - accuracy: 0.0692\n",
            "Epoch 4/75\n",
            "480/480 [==============================] - 2s 4ms/step - loss: 0.0904 - accuracy: 0.1139\n",
            "Epoch 5/75\n",
            "480/480 [==============================] - 2s 4ms/step - loss: 0.0900 - accuracy: 0.1666\n",
            "Epoch 6/75\n",
            "480/480 [==============================] - 2s 4ms/step - loss: 0.0896 - accuracy: 0.2111\n",
            "Epoch 7/75\n",
            "480/480 [==============================] - 2s 3ms/step - loss: 0.0892 - accuracy: 0.2399\n",
            "Epoch 8/75\n",
            "480/480 [==============================] - 1s 3ms/step - loss: 0.0889 - accuracy: 0.2581\n",
            "Epoch 9/75\n",
            "480/480 [==============================] - 2s 3ms/step - loss: 0.0885 - accuracy: 0.2731\n",
            "Epoch 10/75\n",
            "480/480 [==============================] - 2s 3ms/step - loss: 0.0882 - accuracy: 0.2886\n",
            "Epoch 11/75\n",
            "480/480 [==============================] - 2s 4ms/step - loss: 0.0879 - accuracy: 0.3030\n",
            "Epoch 12/75\n",
            "480/480 [==============================] - 2s 4ms/step - loss: 0.0876 - accuracy: 0.3165\n",
            "Epoch 13/75\n",
            "480/480 [==============================] - 2s 3ms/step - loss: 0.0873 - accuracy: 0.3259\n",
            "Epoch 14/75\n",
            "480/480 [==============================] - 2s 4ms/step - loss: 0.0869 - accuracy: 0.3368\n",
            "Epoch 15/75\n",
            "480/480 [==============================] - 2s 4ms/step - loss: 0.0866 - accuracy: 0.3455\n",
            "Epoch 16/75\n",
            "480/480 [==============================] - 2s 4ms/step - loss: 0.0863 - accuracy: 0.3537\n",
            "Epoch 17/75\n",
            "480/480 [==============================] - 2s 3ms/step - loss: 0.0859 - accuracy: 0.3588\n",
            "Epoch 18/75\n",
            "480/480 [==============================] - 2s 4ms/step - loss: 0.0856 - accuracy: 0.3625\n",
            "Epoch 19/75\n",
            "480/480 [==============================] - 2s 4ms/step - loss: 0.0852 - accuracy: 0.3660\n",
            "Epoch 20/75\n",
            "480/480 [==============================] - 2s 4ms/step - loss: 0.0849 - accuracy: 0.3690\n",
            "Epoch 21/75\n",
            "480/480 [==============================] - 2s 5ms/step - loss: 0.0845 - accuracy: 0.3736\n",
            "Epoch 22/75\n",
            "480/480 [==============================] - 2s 4ms/step - loss: 0.0842 - accuracy: 0.3745\n",
            "Epoch 23/75\n",
            "480/480 [==============================] - 2s 3ms/step - loss: 0.0838 - accuracy: 0.3787\n",
            "Epoch 24/75\n",
            "480/480 [==============================] - 2s 4ms/step - loss: 0.0834 - accuracy: 0.3824\n",
            "Epoch 25/75\n",
            "480/480 [==============================] - 2s 4ms/step - loss: 0.0830 - accuracy: 0.3861\n",
            "Epoch 26/75\n",
            "480/480 [==============================] - 2s 4ms/step - loss: 0.0826 - accuracy: 0.3910\n",
            "Epoch 27/75\n",
            "480/480 [==============================] - 2s 4ms/step - loss: 0.0822 - accuracy: 0.3955\n",
            "Epoch 28/75\n",
            "480/480 [==============================] - 2s 4ms/step - loss: 0.0817 - accuracy: 0.4026\n",
            "Epoch 29/75\n",
            "480/480 [==============================] - 2s 4ms/step - loss: 0.0813 - accuracy: 0.4093\n",
            "Epoch 30/75\n",
            "480/480 [==============================] - 2s 4ms/step - loss: 0.0809 - accuracy: 0.4160\n",
            "Epoch 31/75\n",
            "480/480 [==============================] - 2s 4ms/step - loss: 0.0804 - accuracy: 0.4243\n",
            "Epoch 32/75\n",
            "480/480 [==============================] - 2s 4ms/step - loss: 0.0800 - accuracy: 0.4338\n",
            "Epoch 33/75\n",
            "480/480 [==============================] - 2s 3ms/step - loss: 0.0795 - accuracy: 0.4396\n",
            "Epoch 34/75\n",
            "480/480 [==============================] - 2s 4ms/step - loss: 0.0791 - accuracy: 0.4508\n",
            "Epoch 35/75\n",
            "480/480 [==============================] - 2s 3ms/step - loss: 0.0786 - accuracy: 0.4600\n",
            "Epoch 36/75\n",
            "480/480 [==============================] - 2s 3ms/step - loss: 0.0782 - accuracy: 0.4678\n",
            "Epoch 37/75\n",
            "480/480 [==============================] - 2s 4ms/step - loss: 0.0777 - accuracy: 0.4776\n",
            "Epoch 38/75\n",
            "480/480 [==============================] - 2s 4ms/step - loss: 0.0772 - accuracy: 0.4863\n",
            "Epoch 39/75\n",
            "480/480 [==============================] - 2s 4ms/step - loss: 0.0768 - accuracy: 0.4962\n",
            "Epoch 40/75\n",
            "480/480 [==============================] - 2s 4ms/step - loss: 0.0763 - accuracy: 0.5042\n",
            "Epoch 41/75\n",
            "480/480 [==============================] - 2s 4ms/step - loss: 0.0758 - accuracy: 0.5127\n",
            "Epoch 42/75\n",
            "480/480 [==============================] - 2s 4ms/step - loss: 0.0753 - accuracy: 0.5210\n",
            "Epoch 43/75\n",
            "480/480 [==============================] - 2s 4ms/step - loss: 0.0749 - accuracy: 0.5292\n",
            "Epoch 44/75\n",
            "480/480 [==============================] - 2s 3ms/step - loss: 0.0744 - accuracy: 0.5364\n",
            "Epoch 45/75\n",
            "480/480 [==============================] - 2s 3ms/step - loss: 0.0739 - accuracy: 0.5447\n",
            "Epoch 46/75\n",
            "480/480 [==============================] - 2s 3ms/step - loss: 0.0734 - accuracy: 0.5511\n",
            "Epoch 47/75\n",
            "480/480 [==============================] - 2s 4ms/step - loss: 0.0729 - accuracy: 0.5578\n",
            "Epoch 48/75\n",
            "480/480 [==============================] - 2s 3ms/step - loss: 0.0725 - accuracy: 0.5636\n",
            "Epoch 49/75\n",
            "480/480 [==============================] - 2s 4ms/step - loss: 0.0720 - accuracy: 0.5694\n",
            "Epoch 50/75\n",
            "480/480 [==============================] - 2s 4ms/step - loss: 0.0715 - accuracy: 0.5753\n",
            "Epoch 51/75\n",
            "480/480 [==============================] - 2s 4ms/step - loss: 0.0710 - accuracy: 0.5799\n",
            "Epoch 52/75\n",
            "480/480 [==============================] - 2s 3ms/step - loss: 0.0705 - accuracy: 0.5846\n",
            "Epoch 53/75\n",
            "480/480 [==============================] - 2s 4ms/step - loss: 0.0701 - accuracy: 0.5900\n",
            "Epoch 54/75\n",
            "480/480 [==============================] - 2s 4ms/step - loss: 0.0696 - accuracy: 0.5947\n",
            "Epoch 55/75\n",
            "480/480 [==============================] - 2s 4ms/step - loss: 0.0691 - accuracy: 0.5991\n",
            "Epoch 56/75\n",
            "480/480 [==============================] - 2s 4ms/step - loss: 0.0686 - accuracy: 0.6032\n",
            "Epoch 57/75\n",
            "480/480 [==============================] - 2s 4ms/step - loss: 0.0681 - accuracy: 0.6070\n",
            "Epoch 58/75\n",
            "480/480 [==============================] - 2s 4ms/step - loss: 0.0677 - accuracy: 0.6106\n",
            "Epoch 59/75\n",
            "480/480 [==============================] - 2s 4ms/step - loss: 0.0672 - accuracy: 0.6147\n",
            "Epoch 60/75\n",
            "480/480 [==============================] - 2s 4ms/step - loss: 0.0667 - accuracy: 0.6174\n",
            "Epoch 61/75\n",
            "480/480 [==============================] - 2s 3ms/step - loss: 0.0662 - accuracy: 0.6210\n",
            "Epoch 62/75\n",
            "480/480 [==============================] - 2s 4ms/step - loss: 0.0657 - accuracy: 0.6243\n",
            "Epoch 63/75\n",
            "480/480 [==============================] - 3s 6ms/step - loss: 0.0652 - accuracy: 0.6282\n",
            "Epoch 64/75\n",
            "480/480 [==============================] - 2s 3ms/step - loss: 0.0647 - accuracy: 0.6313\n",
            "Epoch 65/75\n",
            "480/480 [==============================] - 2s 3ms/step - loss: 0.0643 - accuracy: 0.6345\n",
            "Epoch 66/75\n",
            "480/480 [==============================] - 2s 4ms/step - loss: 0.0638 - accuracy: 0.6376\n",
            "Epoch 67/75\n",
            "480/480 [==============================] - 2s 4ms/step - loss: 0.0633 - accuracy: 0.6400\n",
            "Epoch 68/75\n",
            "480/480 [==============================] - 2s 4ms/step - loss: 0.0628 - accuracy: 0.6431\n",
            "Epoch 69/75\n",
            "480/480 [==============================] - 2s 4ms/step - loss: 0.0623 - accuracy: 0.6457\n",
            "Epoch 70/75\n",
            "480/480 [==============================] - 3s 6ms/step - loss: 0.0619 - accuracy: 0.6487\n",
            "Epoch 71/75\n",
            "480/480 [==============================] - 4s 7ms/step - loss: 0.0614 - accuracy: 0.6514\n",
            "Epoch 72/75\n",
            "480/480 [==============================] - 2s 4ms/step - loss: 0.0609 - accuracy: 0.6537\n",
            "Epoch 73/75\n",
            "480/480 [==============================] - 2s 4ms/step - loss: 0.0604 - accuracy: 0.6567\n",
            "Epoch 74/75\n",
            "480/480 [==============================] - 2s 4ms/step - loss: 0.0600 - accuracy: 0.6590\n",
            "Epoch 75/75\n",
            "480/480 [==============================] - 2s 4ms/step - loss: 0.0595 - accuracy: 0.6618\n"
          ]
        }
      ]
    },
    {
      "cell_type": "code",
      "source": [
        "plt.plot(history.history['accuracy'])\n",
        "plt.xlabel('accuracy')\n",
        "plt.ylabel('epochs')\n",
        "plt.show()"
      ],
      "metadata": {
        "colab": {
          "base_uri": "https://localhost:8080/",
          "height": 279
        },
        "id": "IqbFTVzk-4NK",
        "outputId": "59e40574-65fe-42ea-d690-a19c6f48060d"
      },
      "execution_count": 17,
      "outputs": [
        {
          "output_type": "display_data",
          "data": {
            "image/png": "[encoded data removed]",
            "text/plain": [
              "<Figure size 432x288 with 1 Axes>"
            ]
          },
          "metadata": {
            "needs_background": "light"
          }
        }
      ]
    },
    {
      "cell_type": "markdown",
      "source": [
        "RESULT:Program is executed sucessfully and output is obtained"
      ],
      "metadata": {
        "id": "cC1D5S9A_pWR"
      }
    }
  ]
}